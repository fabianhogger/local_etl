{
 "cells": [
  {
   "cell_type": "code",
   "execution_count": 1,
   "id": "0f7b3cff-d8ee-4432-8610-ed066f91bbe9",
   "metadata": {},
   "outputs": [],
   "source": [
    "import time\n",
    "import os\n",
    "import pandas as pd\n",
    "import psycopg2\n",
    "from watchdog.observers import Observer\n",
    "from watchdog.events import FileSystemEventHandler\n"
   ]
  },
  {
   "cell_type": "code",
   "execution_count": null,
   "id": "ab869cab-07b3-422e-8399-a174f925126d",
   "metadata": {},
   "outputs": [],
   "source": [
    "import uuid\n",
    "import os\n",
    "from datetime import datetime"
   ]
  },
  {
   "cell_type": "code",
   "execution_count": 2,
   "id": "e8d52633-01cd-47b5-b9b5-d7d5684c42f9",
   "metadata": {},
   "outputs": [],
   "source": [
    "\n",
    "# Configurazione della connessione al database\n",
    "conn = psycopg2.connect(\n",
    "    dbname=\"postgres\",\n",
    "    user=\"postgres\",\n",
    "    password=\"123456\",\n",
    "    host=\"localhost\",\n",
    "    port=\"5432\"\n",
    ")\n",
    "cursor = conn.cursor()"
   ]
  },
  {
   "cell_type": "code",
   "execution_count": 10,
   "id": "1de9ca13-3b1d-431b-b9ee-55b30b57e276",
   "metadata": {},
   "outputs": [
    {
     "ename": "IndentationError",
     "evalue": "unexpected indent (3570010915.py, line 16)",
     "output_type": "error",
     "traceback": [
      "\u001b[1;36m  Cell \u001b[1;32mIn[10], line 16\u001b[1;36m\u001b[0m\n\u001b[1;33m    anni = row['anni']\u001b[0m\n\u001b[1;37m    ^\u001b[0m\n\u001b[1;31mIndentationError\u001b[0m\u001b[1;31m:\u001b[0m unexpected indent\n"
     ]
    }
   ],
   "source": [
    "# Funzione per caricare i dati nel database\n",
    "def load_csv_to_db(csv_file_path):\n",
    "    try:\n",
    "        # Carica il CSV saltando l'header\n",
    "        df = pd.read_csv(csv_file_path, sep=\",\", skiprows=1)\n",
    "        insert_query =  \"\"\"\n",
    "            INSERT INTO project_table (insert_in_raw_timestamp, row_number, nome, cognome, anni)\n",
    "            VALUES (%s, %s, %s, %s, %s)\n",
    "        \"\"\"\n",
    "        # Cicla sul DataFrame per inserire i dati\n",
    "        data_tuples = []\n",
    "        for index, row in df.iterrows():\n",
    "            row_number = index + 1  # Numero di riga (1-based index)\n",
    "            nome = row['nome']\n",
    "            cognome = row['cognome']\n",
    "             anni = row['anni']\n",
    "            data_tuples.append((insert_timestamp, row_number, nome, cognome,anni))\n",
    "\n",
    "        # Esegui l'inserimento dei dati nel database\n",
    "        cursor.executemany(insert_query, data_tuples)\n",
    "        conn.commit()\n",
    "        print(f\"Dati da {csv_file_path} inseriti correttamente nella tabella.\")\n",
    "    except Exception as e:\n",
    "        conn.rollback()  # Se c'è un errore, rollback della transazione\n",
    "        print(f\"Errore durante l'inserimento da {csv_file_path}: {e}\")"
   ]
  },
  {
   "cell_type": "code",
   "execution_count": 4,
   "id": "b86f6af7-b0d4-4ee5-ac74-5c889935ac2d",
   "metadata": {},
   "outputs": [],
   "source": [
    "# Classe di gestione degli eventi\n",
    "class FileHandler(FileSystemEventHandler):\n",
    "    def on_created(self, event):\n",
    "        # Verifica se il file creato è un CSV\n",
    "        if event.is_directory:\n",
    "            return\n",
    "        if event.src_path.endswith(\".txt\"):  # Controlla se è un file .txt\n",
    "            print(f\"Nuovo file trovato: {event.src_path}\")\n",
    "            load_csv_to_db(event.src_path)"
   ]
  },
  {
   "cell_type": "code",
   "execution_count": 5,
   "id": "c1a3c7e4-eda3-4463-b9d2-f5ba5b833441",
   "metadata": {},
   "outputs": [],
   "source": [
    "# Funzione per avviare il monitoraggio\n",
    "def start_directory_monitor(directory_path):\n",
    "    event_handler = FileHandler()\n",
    "    observer = Observer()\n",
    "    observer.schedule(event_handler, directory_path, recursive=False)\n",
    "    observer.start()\n",
    "    print(f\"Inizia a monitorare la directory: {directory_path}\")\n",
    "    \n",
    "    try:\n",
    "        while True:\n",
    "            time.sleep(1)  # Dormi per evitare l'uso eccessivo della CPU\n",
    "    except KeyboardInterrupt:\n",
    "        observer.stop()\n",
    "    observer.join()"
   ]
  },
  {
   "cell_type": "code",
   "execution_count": 6,
   "id": "24fb3326-8777-4655-a9af-b56d03848f4a",
   "metadata": {},
   "outputs": [],
   "source": [
    "# Percorso della directory da monitorare\n",
    "directory_to_monitor = r\"C:/Users/User/Documents/bucket/landing/\""
   ]
  },
  {
   "cell_type": "code",
   "execution_count": 7,
   "id": "4e8952c0-8463-4184-a2b2-a9207086d398",
   "metadata": {},
   "outputs": [
    {
     "name": "stdout",
     "output_type": "stream",
     "text": [
      "Inizia a monitorare la directory: C:/Users/User/Documents/bucket/landing/\n",
      "Nuovo file trovato: C:/Users/User/Documents/bucket/landing/project_2.txt\n",
      "Dati da C:/Users/User/Documents/bucket/landing/project_2.txt inseriti correttamente nella tabella.\n"
     ]
    }
   ],
   "source": [
    "# Avvia il monitoraggio della directory\n",
    "start_directory_monitor(directory_to_monitor)"
   ]
  },
  {
   "cell_type": "code",
   "execution_count": null,
   "id": "00a17404-229d-458a-b5ba-ff9ef9d9dcd0",
   "metadata": {},
   "outputs": [
    {
     "name": "stdout",
     "output_type": "stream",
     "text": [
      "Inizia a monitorare la directory: C:/Users/User/Documents/bucket/landing\n"
     ]
    }
   ],
   "source": [
    "import time\n",
    "import os\n",
    "import pandas as pd\n",
    "import psycopg2\n",
    "from datetime import datetime\n",
    "from watchdog.observers import Observer\n",
    "from watchdog.events import FileSystemEventHandler\n",
    "\n",
    "# Configurazione della connessione al database\n",
    "conn = psycopg2.connect(\n",
    "    dbname=\"postgres\",\n",
    "    user=\"postgres\",\n",
    "    password=\"123456\",\n",
    "    host=\"localhost\",\n",
    "    port=\"5432\"\n",
    ")\n",
    "cursor = conn.cursor()\n",
    "\n",
    "# Funzione per caricare i dati nel database\n",
    "def load_csv_to_db(csv_file_path):\n",
    "    try:\n",
    "        # Carica il CSV saltando l'header\n",
    "        df = pd.read_csv(csv_file_path, sep=\",\", skiprows=1)\n",
    "        \n",
    "        # Ottieni il timestamp dell'inserimento\n",
    "        insert_timestamp = datetime.now()\n",
    "\n",
    "        # Prepara la query SQL con l'aggiunta del timestamp e del numero di riga\n",
    "        insert_query = \"\"\"\n",
    "            INSERT INTO project_table (insert_in_raw_timestamp, row_number, col_1, col_2)\n",
    "            VALUES (%s, %s, %s, %s)\n",
    "        \"\"\"\n",
    "        \n",
    "\n",
    "\n",
    "        # Esegui l'inserimento dei dati nel database\n",
    "        cursor.executemany(insert_query, data_tuples)\n",
    "        conn.commit()\n",
    "        print(f\"Dati da {csv_file_path} inseriti correttamente nella tabella.\")\n",
    "    except Exception as e:\n",
    "        conn.rollback()  # Se c'è un errore, rollback della transazione\n",
    "        print(f\"Errore durante l'inserimento da {csv_file_path}: {e}\")\n",
    "\n",
    "# Classe di gestione degli eventi\n",
    "class FileHandler(FileSystemEventHandler):\n",
    "    def on_created(self, event):\n",
    "        # Verifica se il file creato è un CSV\n",
    "        if event.is_directory:\n",
    "            return\n",
    "        if event.src_path.endswith(\".txt\"):  # Controlla se è un file .txt\n",
    "            print(f\"Nuovo file trovato: {event.src_path}\")\n",
    "            load_csv_to_db(event.src_path)\n",
    "\n",
    "# Funzione per avviare il monitoraggio\n",
    "def start_directory_monitor(directory_path):\n",
    "    event_handler = FileHandler()\n",
    "    observer = Observer()\n",
    "    observer.schedule(event_handler, directory_path, recursive=False)\n",
    "    observer.start()\n",
    "    print(f\"Inizia a monitorare la directory: {directory_path}\")\n",
    "    \n",
    "    try:\n",
    "        while True:\n",
    "            time.sleep(1)  # Dormi per evitare l'uso eccessivo della CPU\n",
    "    except KeyboardInterrupt:\n",
    "        observer.stop()\n",
    "    observer.join()\n",
    "\n",
    "# Percorso della directory da monitorare\n",
    "directory_to_monitor = r\"C:/Users/User/Documents/bucket/landing\"\n",
    "\n",
    "# Avvia il monitoraggio della directory\n",
    "start_directory_monitor(directory_to_monitor)\n"
   ]
  }
 ],
 "metadata": {
  "kernelspec": {
   "display_name": "Python 3 (ipykernel)",
   "language": "python",
   "name": "python3"
  },
  "language_info": {
   "codemirror_mode": {
    "name": "ipython",
    "version": 3
   },
   "file_extension": ".py",
   "mimetype": "text/x-python",
   "name": "python",
   "nbconvert_exporter": "python",
   "pygments_lexer": "ipython3",
   "version": "3.13.1"
  }
 },
 "nbformat": 4,
 "nbformat_minor": 5
}
